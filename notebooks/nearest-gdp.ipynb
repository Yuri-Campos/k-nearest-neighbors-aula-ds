{
 "cells": [
  {
   "cell_type": "markdown",
   "id": "73dfc5fe-def9-47b8-ac28-8668796851e3",
   "metadata": {},
   "source": [
    "# Life Satisfaction Prediction Using K-Nearest Neighbors Regressor"
   ]
  },
  {
   "cell_type": "markdown",
   "id": "bea850ce-a8b0-49b2-9208-f38ce0f2c910",
   "metadata": {},
   "source": [
    "In this Jupyter Notebook, we have developed a predictive model to forecast life satisfaction in a country based on its Gross Domestic Product (GDP). This prediction has been accomplished using a K-Nearest Neighbors Regressor model. It is important to note that this code was created as part of an exercise for our Data Science course at my university, where we explore the fascinating intersection of data analysis and predictive modeling to gain insights into societal well-being."
   ]
  },
  {
   "cell_type": "markdown",
   "id": "58c9a11f-a10e-48c7-bcac-391ca1a9ad59",
   "metadata": {},
   "source": [
    "### Importing libs"
   ]
  },
  {
   "cell_type": "code",
   "execution_count": 1,
   "id": "f8500a7e-8e45-4ce9-b60a-02d6d4391a06",
   "metadata": {},
   "outputs": [],
   "source": [
    "import numpy as np\n",
    "import pandas as pd\n",
    "from sklearn.neighbors import KNeighborsRegressor\n",
    "from sklearn.metrics import mean_squared_error\n",
    "from sklearn.model_selection import train_test_split"
   ]
  },
  {
   "cell_type": "markdown",
   "id": "f15d76c7-9a6f-47a7-aacc-2c1cf9cc84a7",
   "metadata": {},
   "source": [
    "### Loading data from a Aurélien Géron github Repo"
   ]
  },
  {
   "cell_type": "markdown",
   "id": "2ecc5440-e162-4d33-9cbb-c538af653b98",
   "metadata": {},
   "source": [
    "This dataset has been provided in a book called [Hands-On Machine Learning](https://a.co/d/gMBHxNg) by Aurélien Géron. \n",
    "I learned ML using his book and this notebook is an exercise based on his first code snippets."
   ]
  },
  {
   "cell_type": "code",
   "execution_count": 2,
   "id": "303b2b83-5225-4b97-8aa4-5b1ab1fadfd8",
   "metadata": {},
   "outputs": [],
   "source": [
    "data = pd.read_csv(\"https://github.com/ageron/data/raw/main/lifesat/lifesat.csv\")"
   ]
  },
  {
   "cell_type": "markdown",
   "id": "fe40e1f6-1e6c-498c-a244-4890102aa09e",
   "metadata": {},
   "source": [
    "### Creating a k-nearest Neighbors Regressor Model with 3 neighbors "
   ]
  },
  {
   "cell_type": "code",
   "execution_count": 3,
   "id": "d2748f50-a312-4788-9132-51a88dcbca12",
   "metadata": {},
   "outputs": [],
   "source": [
    "model = KNeighborsRegressor(n_neighbors=3)"
   ]
  },
  {
   "cell_type": "markdown",
   "id": "11775476-6218-4188-b695-2685ec201dc9",
   "metadata": {},
   "source": [
    "### Getting a Feature and a Target. This will be a Simple and univariate regression problem"
   ]
  },
  {
   "cell_type": "code",
   "execution_count": 4,
   "id": "04db3c9a-7128-4759-b3c6-f4f2f9729793",
   "metadata": {},
   "outputs": [],
   "source": [
    "x = data[[\"GDP per capita (USD)\"]].values\n",
    "y = data[[\"Life satisfaction\"]].values"
   ]
  },
  {
   "cell_type": "markdown",
   "id": "4ad5497b-82c5-4e50-adc6-1cf48bf3efd7",
   "metadata": {},
   "source": [
    "### Splitting the Data for Test and Training"
   ]
  },
  {
   "cell_type": "code",
   "execution_count": 5,
   "id": "7ae1f56c-258e-474c-87d1-5da01c1404ce",
   "metadata": {},
   "outputs": [],
   "source": [
    "x_train, x_test, y_train, y_test = train_test_split(x, y, test_size = 0.2, random_state=45)"
   ]
  },
  {
   "cell_type": "markdown",
   "id": "164be624-04f8-4f9a-9f25-b5c24c5a9d43",
   "metadata": {},
   "source": [
    "### Predicting using the Test Features"
   ]
  },
  {
   "cell_type": "code",
   "execution_count": 7,
   "id": "f9770730-506d-400b-84d9-466dddec54a8",
   "metadata": {},
   "outputs": [],
   "source": [
    "y_predict = model.predict(x_test)"
   ]
  },
  {
   "cell_type": "markdown",
   "id": "97dd7fc3-e59d-41a5-ae02-0669229702e3",
   "metadata": {},
   "source": [
    "### Calculating the MSE of the Model"
   ]
  },
  {
   "cell_type": "code",
   "execution_count": 8,
   "id": "96ae58c1-27e1-4363-8c05-55d122015275",
   "metadata": {},
   "outputs": [],
   "source": [
    "mse = mean_squared_error(y_test, y_predict)"
   ]
  },
  {
   "cell_type": "code",
   "execution_count": 9,
   "id": "cf8205b4-f8a5-4125-bca8-019ae7b81288",
   "metadata": {},
   "outputs": [
    {
     "name": "stdout",
     "output_type": "stream",
     "text": [
      "MSE: 0.05148148148148146\n"
     ]
    }
   ],
   "source": [
    "print(f\"MSE: {mse}\")"
   ]
  },
  {
   "cell_type": "markdown",
   "id": "e869bfcb-3dfb-402c-bfd6-85aac53d6a86",
   "metadata": {},
   "source": [
    "### Predicting the Lifesat Value for a New GDP"
   ]
  },
  {
   "cell_type": "code",
   "execution_count": 10,
   "id": "837955f8-a178-437a-8e07-242efb39cb27",
   "metadata": {},
   "outputs": [],
   "source": [
    "x_new = [[37_655.2]]"
   ]
  },
  {
   "cell_type": "code",
   "execution_count": 11,
   "id": "17a5247d-e1a7-4862-840b-29ef1799a6b8",
   "metadata": {},
   "outputs": [
    {
     "name": "stdout",
     "output_type": "stream",
     "text": [
      "[[6.36666667]]\n"
     ]
    }
   ],
   "source": [
    "print(model.predict(x_new))"
   ]
  }
 ],
 "metadata": {
  "kernelspec": {
   "display_name": "Python 3 (ipykernel)",
   "language": "python",
   "name": "python3"
  },
  "language_info": {
   "codemirror_mode": {
    "name": "ipython",
    "version": 3
   },
   "file_extension": ".py",
   "mimetype": "text/x-python",
   "name": "python",
   "nbconvert_exporter": "python",
   "pygments_lexer": "ipython3",
   "version": "3.10.12"
  }
 },
 "nbformat": 4,
 "nbformat_minor": 5
}
