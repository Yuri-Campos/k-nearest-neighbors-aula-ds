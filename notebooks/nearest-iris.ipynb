{
 "cells": [
  {
   "cell_type": "markdown",
   "id": "cc18a029-7b22-4082-a43f-1b2aecedacc7",
   "metadata": {},
   "source": [
    "# K-Nearest Neighbor (KNN) Classifier for Plant Species Prediction"
   ]
  },
  {
   "cell_type": "markdown",
   "id": "930efafa-fe45-46d7-818e-c7835539e4d5",
   "metadata": {},
   "source": [
    "In this notebook, we will implement a K-Nearest Neighbor (KNN) classifier to predict the species of plants using the famous Iris dataset from scikit-learn.\n",
    "\n",
    "The Iris dataset is a commonly used dataset in machine learning. It contains measurements of four features (sepal length, sepal width, petal length, and petal width) for three different species of iris flowers (Setosa, Versicolor, and Virginica). Our goal is to build a KNN classifier that can accurately predict the species of an iris flower based on these measurements."
   ]
  },
  {
   "cell_type": "markdown",
   "id": "76deb8e5-235d-4121-867b-69673f17004f",
   "metadata": {},
   "source": [
    "### Importing libs:"
   ]
  },
  {
   "cell_type": "code",
   "execution_count": 1,
   "id": "0af04914-f08f-4d09-bcf0-4c99261b1ee8",
   "metadata": {},
   "outputs": [],
   "source": [
    "from sklearn.datasets import load_iris\n",
    "from sklearn.model_selection import train_test_split\n",
    "from sklearn.neighbors import KNeighborsClassifier\n",
    "from sklearn.metrics import accuracy_score\n",
    "import numpy as np"
   ]
  },
  {
   "cell_type": "markdown",
   "id": "919d5cc7-d9ba-4c9a-a49a-1072754b3d74",
   "metadata": {},
   "source": [
    "### Loading iris Database:"
   ]
  },
  {
   "cell_type": "code",
   "execution_count": 2,
   "id": "f348bd5e-7aca-4b52-8f3e-3d939dae7389",
   "metadata": {},
   "outputs": [],
   "source": [
    "iris = load_iris()"
   ]
  },
  {
   "cell_type": "markdown",
   "id": "95b095b2-9997-4eed-b718-7ebc52df0246",
   "metadata": {},
   "source": [
    "### Getting a Feature and a Label:"
   ]
  },
  {
   "cell_type": "code",
   "execution_count": 3,
   "id": "dc7e30d8-5794-4b46-ba23-f9b3f80ece25",
   "metadata": {},
   "outputs": [],
   "source": [
    "x = iris.data\n",
    "y = iris.target"
   ]
  },
  {
   "cell_type": "markdown",
   "id": "6ad6b1be-a8aa-4327-b78f-1c5916d892ea",
   "metadata": {},
   "source": [
    "### Splitting the Data for Test and Training"
   ]
  },
  {
   "cell_type": "code",
   "execution_count": 4,
   "id": "8bfb8298-17ff-4d23-9f5d-5acccd1db671",
   "metadata": {},
   "outputs": [],
   "source": [
    "x_train, x_test, y_train, y_test = train_test_split(x, y, test_size = 0.2, random_state=42)"
   ]
  },
  {
   "cell_type": "markdown",
   "id": "8b9c5453-8748-42f2-99af-a98f986fdfcf",
   "metadata": {},
   "source": [
    "### Creating a k-nearest Neighbors Classifier Model with 3 neighbors "
   ]
  },
  {
   "cell_type": "code",
   "execution_count": 5,
   "id": "c54bb1f1-0738-4809-add1-8a756356d53f",
   "metadata": {},
   "outputs": [],
   "source": [
    "knn = KNeighborsClassifier(n_neighbors=3)"
   ]
  },
  {
   "cell_type": "markdown",
   "id": "a5d3036f-687c-4e91-9c3e-254a486374da",
   "metadata": {},
   "source": [
    "### Predicting using the Test Features"
   ]
  },
  {
   "cell_type": "code",
   "execution_count": 7,
   "id": "5e9883a9-d6bd-47d6-8477-5eb8d627fdf5",
   "metadata": {},
   "outputs": [],
   "source": [
    "y_predict = knn.predict(x_test)"
   ]
  },
  {
   "cell_type": "markdown",
   "id": "dbe717c9-222e-47c9-bd77-a9afd9eadcf4",
   "metadata": {},
   "source": [
    "### Calculating the Accuracy of the Model"
   ]
  },
  {
   "cell_type": "code",
   "execution_count": 8,
   "id": "eee298bb-6f58-431a-aeca-605c4f56b651",
   "metadata": {},
   "outputs": [],
   "source": [
    "accuracy = accuracy_score(y_test, y_predict)"
   ]
  },
  {
   "cell_type": "code",
   "execution_count": 9,
   "id": "79db2582-a7a2-4d17-82a0-09a682eba67d",
   "metadata": {},
   "outputs": [
    {
     "name": "stdout",
     "output_type": "stream",
     "text": [
      "Model Accuracy: 1.0\n"
     ]
    }
   ],
   "source": [
    "print(f\"Model Accuracy: {accuracy}\")"
   ]
  },
  {
   "cell_type": "markdown",
   "id": "a18eda4a-2f06-4a98-aa3c-eb0e44439c1a",
   "metadata": {},
   "source": [
    "### Predicting a new Plant Species"
   ]
  },
  {
   "cell_type": "code",
   "execution_count": 10,
   "id": "2ada004a-3c84-417b-bb9a-89c0514ed2e7",
   "metadata": {},
   "outputs": [],
   "source": [
    "new_flower = np.array([[ 5.1,3.5,1.4,0.2 ]])"
   ]
  },
  {
   "cell_type": "code",
   "execution_count": 11,
   "id": "de2b12fe-c931-445f-a4a5-4a28b3bba762",
   "metadata": {},
   "outputs": [],
   "source": [
    "predict_new_flower = knn.predict(new_flower)"
   ]
  },
  {
   "cell_type": "code",
   "execution_count": 12,
   "id": "4de02c1c-6240-4897-8ebf-e36e98a574c9",
   "metadata": {},
   "outputs": [],
   "source": [
    "name_species = iris.target_names[predict_new_flower[0]]"
   ]
  },
  {
   "cell_type": "code",
   "execution_count": 13,
   "id": "edda3923-5fbe-407d-84b5-4f7b736c395e",
   "metadata": {},
   "outputs": [
    {
     "name": "stdout",
     "output_type": "stream",
     "text": [
      "Flower name: setosa\n"
     ]
    }
   ],
   "source": [
    "print(f\"Flower name: {name_species}\")"
   ]
  }
 ],
 "metadata": {
  "kernelspec": {
   "display_name": "Python 3 (ipykernel)",
   "language": "python",
   "name": "python3"
  },
  "language_info": {
   "codemirror_mode": {
    "name": "ipython",
    "version": 3
   },
   "file_extension": ".py",
   "mimetype": "text/x-python",
   "name": "python",
   "nbconvert_exporter": "python",
   "pygments_lexer": "ipython3",
   "version": "3.10.12"
  }
 },
 "nbformat": 4,
 "nbformat_minor": 5
}
